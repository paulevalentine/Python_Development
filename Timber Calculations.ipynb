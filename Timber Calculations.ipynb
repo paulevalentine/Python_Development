{
 "cells": [
  {
   "cell_type": "markdown",
   "metadata": {},
   "source": [
    "# Timber Beam Design Example"
   ]
  },
  {
   "cell_type": "code",
   "execution_count": 1,
   "metadata": {
    "collapsed": false,
    "jupyter": {
     "outputs_hidden": false
    },
    "pycharm": {
     "name": "#%%\n"
    }
   },
   "outputs": [],
   "source": [
    "from timber import *"
   ]
  },
  {
   "cell_type": "markdown",
   "metadata": {},
   "source": [
    "## Bending"
   ]
  },
  {
   "cell_type": "markdown",
   "metadata": {},
   "source": [
    "The bending capacity of a timber section is given by:\n",
    "\n",
    "\\begin{align}\n",
    "&M_{Rd} = \\frac{k_{mod} k_h k_{sys} k_{crit} f_{mk}}{\\gamma_m} Z\\\\\n",
    "&Z = \\frac{b h^2}{6}\\\\\n",
    "&h \\leq 150 \\implies  k_h = \\left(\\frac{150}{h}\\right)^{0.20}\n",
    "\\end{align}\n",
    "\n",
    "\n",
    "It is assumed that the beams have adequate restraint such that $k_{crit} = 1$. For load sharing systems $k_{sys} = 1.1$ and for other systems $k_{sys} = 1.0$.\n",
    "\n",
    "The partial factor for the timber is taken to be $\\gamma_m=1.3$.\n",
    "\n",
    "The shear capacity of a timber section is given by:\n",
    "\n",
    "$$ V_{Rd} = \\frac{k_{mod} f_{vk}}{\\gamma_m} \\frac{2}{3} bh $$"
   ]
  },
  {
   "cell_type": "code",
   "execution_count": 2,
   "metadata": {
    "tags": []
   },
   "outputs": [
    {
     "name": "stdout",
     "output_type": "stream",
     "text": [
      "Design Bending Capacity: 3.51kNm\n",
      "Design Shear Capacity: 7.50kN\n"
     ]
    },
    {
     "data": {
      "image/png": "[encoded data removed]",
      "text/plain": [
       "<Figure size 792x288 with 1 Axes>"
      ]
     },
     "metadata": {
      "needs_background": "light"
     },
     "output_type": "display_data"
    }
   ],
   "source": [
    "# For a timber section and print the capacities\n",
    "b1 = TimberBeam(b=50, h=195, grade='C24', ksys=1, service_class=1)\n",
    "b1.print_capacities(4, 5)"
   ]
  },
  {
   "cell_type": "markdown",
   "metadata": {},
   "source": [
    "## Axial Compression"
   ]
  },
  {
   "cell_type": "markdown",
   "metadata": {},
   "source": [
    "\\begin{align}\n",
    "\\lambda_{rel,y} = \\frac{\\lambda_y}{\\pi} \\sqrt{\\frac{f_{c,0,k}}{E_{0.005}}} \\text{ Where } \\lambda_y = \\frac{le_y}{r_y}\\\\\n",
    "\\lambda_{rel,z} = \\frac{\\lambda_z}{\\pi} \\sqrt{\\frac{f_{c,0,k}}{E_{0.005}}} \\text{ Where } \\lambda_z = \\frac{le_z}{r_z}\\\\\n",
    "\\end{align}"
   ]
  },
  {
   "cell_type": "markdown",
   "metadata": {},
   "source": [
    "# Racking Shear Calculations"
   ]
  },
  {
   "cell_type": "markdown",
   "metadata": {},
   "source": [
    "The design racking strength of a wall diaphragm $F_{i,v,Rd} = K_{opening} K_{i,w} f_{p,d,t} L$\n",
    "\n",
    "Where: $f_{p,d,t} = f_{p,d,1} + K_{comb} f_{p,d,2}$\n",
    "\n",
    "The design shear capacity per unit length of the perimeter fasteners to the sheathing ($f_{p,d}$) is given by:\n",
    "\n",
    "$$f_{p,d} = \\frac{1.2 F_{t,Rd} (1+2.5s)}{s}$$\n",
    "\n",
    "Where $F_{f,Rd}$ is the design capacity of a single fixing."
   ]
  },
  {
   "cell_type": "markdown",
   "metadata": {},
   "source": [
    "# Connections"
   ]
  },
  {
   "cell_type": "markdown",
   "metadata": {},
   "source": [
    "## Withdrawal Capacities"
   ]
  },
  {
   "cell_type": "code",
   "execution_count": 3,
   "metadata": {
    "jupyter": {
     "source_hidden": true
    }
   },
   "outputs": [
    {
     "name": "stdout",
     "output_type": "stream",
     "text": [
      "Characteristic withdrawal resistance for smooth nails:\n"
     ]
    },
    {
     "data": {
      "text/html": [
       "<div>\n",
       "<style scoped>\n",
       "    .dataframe tbody tr th:only-of-type {\n",
       "        vertical-align: middle;\n",
       "    }\n",
       "\n",
       "    .dataframe tbody tr th {\n",
       "        vertical-align: top;\n",
       "    }\n",
       "\n",
       "    .dataframe thead th {\n",
       "        text-align: right;\n",
       "    }\n",
       "</style>\n",
       "<table border=\"1\" class=\"dataframe\">\n",
       "  <thead>\n",
       "    <tr style=\"text-align: right;\">\n",
       "      <th></th>\n",
       "      <th>C16</th>\n",
       "      <th>C24</th>\n",
       "    </tr>\n",
       "  </thead>\n",
       "  <tbody>\n",
       "    <tr>\n",
       "      <th>2.65</th>\n",
       "      <td>5.09</td>\n",
       "      <td>6.49</td>\n",
       "    </tr>\n",
       "    <tr>\n",
       "      <th>2.80</th>\n",
       "      <td>5.38</td>\n",
       "      <td>6.86</td>\n",
       "    </tr>\n",
       "    <tr>\n",
       "      <th>3.00</th>\n",
       "      <td>5.77</td>\n",
       "      <td>7.35</td>\n",
       "    </tr>\n",
       "    <tr>\n",
       "      <th>3.10</th>\n",
       "      <td>5.96</td>\n",
       "      <td>7.60</td>\n",
       "    </tr>\n",
       "    <tr>\n",
       "      <th>3.35</th>\n",
       "      <td>6.44</td>\n",
       "      <td>8.21</td>\n",
       "    </tr>\n",
       "    <tr>\n",
       "      <th>3.75</th>\n",
       "      <td>7.21</td>\n",
       "      <td>9.19</td>\n",
       "    </tr>\n",
       "    <tr>\n",
       "      <th>4.00</th>\n",
       "      <td>7.69</td>\n",
       "      <td>9.80</td>\n",
       "    </tr>\n",
       "  </tbody>\n",
       "</table>\n",
       "</div>"
      ],
      "text/plain": [
       "       C16   C24\n",
       "2.65  5.09  6.49\n",
       "2.80  5.38  6.86\n",
       "3.00  5.77  7.35\n",
       "3.10  5.96  7.60\n",
       "3.35  6.44  8.21\n",
       "3.75  7.21  9.19\n",
       "4.00  7.69  9.80"
      ]
     },
     "metadata": {},
     "output_type": "display_data"
    }
   ],
   "source": [
    "withdrawalData = {'C16':[5.09,5.38,5.77,5.96,6.44,7.21,7.69],\n",
    "                 'C24':[6.49,6.86,7.35,7.60,8.21,9.19,9.80]}\n",
    "withdrawal = pd.DataFrame(withdrawalData)\n",
    "nailDiameters = [2.65, 2.80, 3, 3.1, 3.35, 3.75, 4]\n",
    "withdrawal.index = nailDiameters\n",
    "print('Characteristic withdrawal resistance for smooth nails:')\n",
    "display(withdrawal)"
   ]
  },
  {
   "cell_type": "markdown",
   "metadata": {},
   "source": [
    "The withdrawl load of a screw is given by:\n",
    "\n",
    "$$R_{d,withdrawal} = \\frac{4t_{pen}nk_{mod}R_k}{\\gamma_M}$$"
   ]
  },
  {
   "cell_type": "code",
   "execution_count": 4,
   "metadata": {
    "jupyter": {
     "source_hidden": true
    }
   },
   "outputs": [
    {
     "name": "stdout",
     "output_type": "stream",
     "text": [
      "Withdrawl capacity of a 4.00mm diameter nail with a pointside penetration of 120.00mm is 2171.08N\n"
     ]
    }
   ],
   "source": [
    "# axial withdrawal load for a screw \n",
    "# tpen >= 8 x nominal diameter\n",
    "grade = 'C24'\n",
    "n = 1\n",
    "d = 4\n",
    "Rk = withdrawal.loc[d,grade]\n",
    "kmod = 0.6\n",
    "tpen = 120\n",
    "gm = 1.3\n",
    "\n",
    "Rdw = 4 * tpen * n * kmod * Rk / gm\n",
    "print('Withdrawl capacity of a {:.2f}mm diameter nail with a pointside penetration of {:.2f}mm is {:.2f}N'.\n",
    "      format(d, tpen, Rdw))\n"
   ]
  },
  {
   "cell_type": "markdown",
   "metadata": {},
   "source": [
    "# Force effects"
   ]
  },
  {
   "cell_type": "markdown",
   "metadata": {},
   "source": [
    "## Deflection"
   ]
  },
  {
   "cell_type": "markdown",
   "metadata": {},
   "source": [
    "Combined bending and shear deflection is a simply supported beam is given by:\n",
    "\n",
    "$$\\delta = \\frac{5wl^4}{384EI} + \\frac{V_{app}}{8 G_m bd}$$"
   ]
  },
  {
   "cell_type": "code",
   "execution_count": 5,
   "metadata": {},
   "outputs": [
    {
     "ename": "NameError",
     "evalue": "name 'timber_properties' is not defined",
     "output_type": "error",
     "traceback": [
      "\u001b[0;31m------------------------------------------------------------------\u001b[0m",
      "\u001b[0;31mNameError\u001b[0m                        Traceback (most recent call last)",
      "\u001b[0;32m<ipython-input-5-e05b8b848026>\u001b[0m in \u001b[0;36m<module>\u001b[0;34m\u001b[0m\n\u001b[1;32m      1\u001b[0m \u001b[0mgrade_ref\u001b[0m \u001b[0;34m=\u001b[0m \u001b[0;34m'C24'\u001b[0m\u001b[0;34m\u001b[0m\u001b[0;34m\u001b[0m\u001b[0m\n\u001b[0;32m----> 2\u001b[0;31m \u001b[0mE\u001b[0m \u001b[0;34m=\u001b[0m \u001b[0mtimber_properties\u001b[0m\u001b[0;34m.\u001b[0m\u001b[0mloc\u001b[0m\u001b[0;34m[\u001b[0m\u001b[0mgrade_ref\u001b[0m\u001b[0;34m,\u001b[0m \u001b[0;34m'E0m'\u001b[0m\u001b[0;34m]\u001b[0m\u001b[0;34m\u001b[0m\u001b[0;34m\u001b[0m\u001b[0m\n\u001b[0m",
      "\u001b[0;31mNameError\u001b[0m: name 'timber_properties' is not defined"
     ]
    }
   ],
   "source": [
    "grade_ref = 'C24'\n",
    "E = timber_properties.loc[grade_ref, 'E0m']"
   ]
  },
  {
   "cell_type": "markdown",
   "metadata": {},
   "source": []
  }
 ],
 "metadata": {
  "kernelspec": {
   "display_name": "Python 3",
   "language": "python",
   "name": "python3"
  },
  "language_info": {
   "codemirror_mode": {
    "name": "ipython",
    "version": 3
   },
   "file_extension": ".py",
   "mimetype": "text/x-python",
   "name": "python",
   "nbconvert_exporter": "python",
   "pygments_lexer": "ipython3",
   "version": "3.9.1+"
  },
  "latex_envs": {
   "LaTeX_envs_menu_present": true,
   "autoclose": false,
   "autocomplete": true,
   "bibliofile": "biblio.bib",
   "cite_by": "apalike",
   "current_citInitial": 1,
   "eqLabelWithNumbers": true,
   "eqNumInitial": 1,
   "hotkeys": {
    "equation": "Ctrl-E",
    "itemize": "Ctrl-I"
   },
   "labels_anchors": false,
   "latex_user_defs": false,
   "report_style_numbering": false,
   "user_envs_cfg": false
  }
 },
 "nbformat": 4,
 "nbformat_minor": 4
}

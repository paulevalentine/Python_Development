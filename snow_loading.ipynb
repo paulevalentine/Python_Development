{
 "cells": [
  {
   "cell_type": "markdown",
   "id": "liberal-footwear",
   "metadata": {},
   "source": [
    "# Snow loading\n",
    "\n",
    "The following calulations are undertaken in accordance with BS EN 1991-1-3 and the associated UK National Annex (NA).\n",
    "\n",
    "The calculations make use of the Structensor modules for snow loading\n",
    "\n",
    "In accordance with the NA $C_e=1$ and $C_t=1$. Exception snow loads are not considered.\n",
    "\n",
    "Snow load on the ground $(s_k)$ is given by NA.1:\n",
    "\n",
    "$$ s_k=(0.15+(0.10 Z + 0.05)) + \\left(\\frac{A-100}{525}\\right) $$\n",
    "\n",
    "Where $A$ is the alitude above mean sea level and $Z$ the snow zone from Figure NA.1\n",
    "\n",
    "The snow load on the roof $(s)$ is calculated from:\n",
    "\n",
    "$$s = \\mu_i C_e C_t s_k$$\n",
    "\n",
    "Where $\\mu_i$ is the snow shape coefficient for the specif roof type. Note that this snow loading is applied on plan.\n",
    "\n",
    "Where the snow load in a valley is calculated BS EN 1991-1-3 NA B2 is used such that the snow shape coefficient is the minimum of:\n",
    "\n",
    "\\begin{align}\n",
    "&\\mu_1 = \\frac{2h}{s_k}\\\\\n",
    "&\\mu_1 = \\frac{2b_3}{l_{s1} + l_{s2}}\\\\\n",
    "&\\mu_2 = 5\n",
    "\\end{align}\n",
    "\n",
    "For canopy snow loading the shape coefficient is taken as the lesser of:\n",
    "\n",
    "\\begin{align}\n",
    "&\\mu_1 =\\frac{2h}{s_k}\\\\\n",
    "&\\mu_1 = 5\n",
    "\\end{align}"
   ]
  },
  {
   "cell_type": "code",
   "execution_count": 1,
   "id": "entertaining-stockholm",
   "metadata": {},
   "outputs": [],
   "source": [
    "# import the snow module\n",
    "import snow"
   ]
  },
  {
   "cell_type": "code",
   "execution_count": 2,
   "id": "valued-warner",
   "metadata": {},
   "outputs": [
    {
     "name": "stdout",
     "output_type": "stream",
     "text": [
      "Snow load on the ground = 0.56kPa\n",
      "The snow shape coefficient = 1.07\n",
      "The snow load = 0.60kPa\n",
      "The valley snow shape coefficient = 3.00\n",
      "The peak valley snow load = 1.69kPa\n",
      "The canopy snow shape coeffeicient = 3.56\n",
      "The peak canopy snow load = 2.00kPa\n"
     ]
    }
   ],
   "source": [
    "s = snow.Snow(pitch=25.0, pitch_type='duo', Z=4.0, Alt=80.0)\n",
    "s.basic_loading()\n",
    "s.valley()\n",
    "s.canopy(h=1, b1=3)"
   ]
  }
 ],
 "metadata": {
  "kernelspec": {
   "display_name": "Python 3",
   "language": "python",
   "name": "python3"
  },
  "language_info": {
   "codemirror_mode": {
    "name": "ipython",
    "version": 3
   },
   "file_extension": ".py",
   "mimetype": "text/x-python",
   "name": "python",
   "nbconvert_exporter": "python",
   "pygments_lexer": "ipython3",
   "version": "3.9.2"
  }
 },
 "nbformat": 4,
 "nbformat_minor": 5
}

{
 "cells": [
  {
   "cell_type": "markdown",
   "id": "veterinary-portfolio",
   "metadata": {},
   "source": [
    "# Snow loading\n",
    "\n",
    "The following calulations are undertaken in accordance with BS EN 1991-1-3 and the associated UK National Annex (NA).\n",
    "\n",
    "The calculations make use of the Structensor modules for snow loading\n",
    "\n",
    "In accordance with the NA $C_e=1$ and $C_t=1$. Exception snow loads are not considered."
   ]
  },
  {
   "cell_type": "code",
   "execution_count": null,
   "id": "proprietary-concentrate",
   "metadata": {},
   "outputs": [],
   "source": []
  }
 ],
 "metadata": {
  "kernelspec": {
   "display_name": "Python 3",
   "language": "python",
   "name": "python3"
  },
  "language_info": {
   "codemirror_mode": {
    "name": "ipython",
    "version": 3
   },
   "file_extension": ".py",
   "mimetype": "text/x-python",
   "name": "python",
   "nbconvert_exporter": "python",
   "pygments_lexer": "ipython3",
   "version": "3.9.2"
  }
 },
 "nbformat": 4,
 "nbformat_minor": 5
}

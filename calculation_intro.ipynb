{
 "cells": [
  {
   "cell_type": "markdown",
   "metadata": {},
   "source": [
    "# Introduction\n",
    "\n",
    "These calculations ....\n",
    "\n",
    "## About thes Calculations\n",
    "\n",
    "These calculations are compiled in Jupyter Labs using Python. The calculations use some Classes developed by Structensor Consulting Ltd to make structural design efficient and transparent. If required the source code of these calculations can be provided to checking authorities. \n",
    "\n",
    "The calculations are undertaken in accordacne with limit state design principles in accordance with BS EN 1990. In addition, the following standards are used within the calculations:\n",
    "\n",
    "BS EN 1991-1-1\n",
    "\n",
    "BS EN 1995-1-1\n",
    "\n",
    "## Project Description\n",
    "\n",
    "Add information about the project and the brief here.\n",
    "\n",
    "## Structural Principles\n",
    "\n",
    "Add descriptions and assumptions about the structure here. \n"
   ]
  }
 ],
 "metadata": {
  "kernelspec": {
   "display_name": "Python 3",
   "language": "python",
   "name": "python3"
  },
  "language_info": {
   "codemirror_mode": {
    "name": "ipython",
    "version": 3
   },
   "file_extension": ".py",
   "mimetype": "text/x-python",
   "name": "python",
   "nbconvert_exporter": "python",
   "pygments_lexer": "ipython3",
   "version": "3.9.2"
  }
 },
 "nbformat": 4,
 "nbformat_minor": 4
}

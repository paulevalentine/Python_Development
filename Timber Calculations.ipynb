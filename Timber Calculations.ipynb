{
 "cells": [
  {
   "cell_type": "markdown",
   "metadata": {},
   "source": [
    "# Timber Properties for use in design"
   ]
  },
  {
   "cell_type": "code",
   "execution_count": 1,
   "outputs": [
    {
     "data": {
      "text/plain": "     fmk  fvk  ft0k  ft90k  fc0k  fc90k    E0m  E005   Gm   pm   pk\nC16   16  1.8    10    0.5    17    2.2   8000  5400  500  370  310\nC24   24  2.5    14    0.5    21    2.5  11000  7400  690  420  350",
      "text/html": "<div>\n<style scoped>\n    .dataframe tbody tr th:only-of-type {\n        vertical-align: middle;\n    }\n\n    .dataframe tbody tr th {\n        vertical-align: top;\n    }\n\n    .dataframe thead th {\n        text-align: right;\n    }\n</style>\n<table border=\"1\" class=\"dataframe\">\n  <thead>\n    <tr style=\"text-align: right;\">\n      <th></th>\n      <th>fmk</th>\n      <th>fvk</th>\n      <th>ft0k</th>\n      <th>ft90k</th>\n      <th>fc0k</th>\n      <th>fc90k</th>\n      <th>E0m</th>\n      <th>E005</th>\n      <th>Gm</th>\n      <th>pm</th>\n      <th>pk</th>\n    </tr>\n  </thead>\n  <tbody>\n    <tr>\n      <th>C16</th>\n      <td>16</td>\n      <td>1.8</td>\n      <td>10</td>\n      <td>0.5</td>\n      <td>17</td>\n      <td>2.2</td>\n      <td>8000</td>\n      <td>5400</td>\n      <td>500</td>\n      <td>370</td>\n      <td>310</td>\n    </tr>\n    <tr>\n      <th>C24</th>\n      <td>24</td>\n      <td>2.5</td>\n      <td>14</td>\n      <td>0.5</td>\n      <td>21</td>\n      <td>2.5</td>\n      <td>11000</td>\n      <td>7400</td>\n      <td>690</td>\n      <td>420</td>\n      <td>350</td>\n    </tr>\n  </tbody>\n</table>\n</div>"
     },
     "metadata": {},
     "output_type": "display_data"
    }
   ],
   "source": [
    "import pandas as pd\n",
    "timberMaterials = pd.read_csv('timberProperties.csv', index_col=0)\n",
    "display(timberMaterials)"
   ],
   "metadata": {
    "collapsed": false,
    "pycharm": {
     "name": "#%%\n"
    }
   }
  },
  {
   "cell_type": "markdown",
   "metadata": {},
   "source": [
    "# Capacities of sections"
   ]
  },
  {
   "cell_type": "markdown",
   "metadata": {},
   "source": [
    "## Bending"
   ]
  },
  {
   "cell_type": "markdown",
   "metadata": {},
   "source": [
    "The bending capacity of a timber section is given by:\n",
    "\n",
    "$$ M_{Rd} = \\frac{k_{mod} k_h k_{sys} k_{crit} f_{mk}}{\\gamma_m} Z $$"
   ]
  },
  {
   "cell_type": "code",
   "execution_count": 2,
   "outputs": [
    {
     "ename": "ModuleNotFoundError",
     "evalue": "No module named 'geometricProperties'",
     "output_type": "error",
     "traceback": [
      "\u001B[0;31m---------------------------------------------------------------------------\u001B[0m",
      "\u001B[0;31mModuleNotFoundError\u001B[0m                       Traceback (most recent call last)",
      "\u001B[0;32m<ipython-input-2-2615776120cd>\u001B[0m in \u001B[0;36m<module>\u001B[0;34m\u001B[0m\n\u001B[0;32m----> 1\u001B[0;31m \u001B[0;32mimport\u001B[0m \u001B[0mgeometricProperties\u001B[0m\u001B[0;34m\u001B[0m\u001B[0;34m\u001B[0m\u001B[0m\n\u001B[0m\u001B[1;32m      2\u001B[0m \u001B[0;34m\u001B[0m\u001B[0m\n",
      "\u001B[0;31mModuleNotFoundError\u001B[0m: No module named 'geometricProperties'"
     ]
    }
   ],
   "source": [
    "import geometricProperties"
   ],
   "metadata": {
    "collapsed": false,
    "pycharm": {
     "name": "#%%\n"
    }
   }
  },
  {
   "cell_type": "code",
   "execution_count": 6,
   "metadata": {
    "jupyter": {
     "source_hidden": true
    }
   },
   "outputs": [
    {
     "name": "stdout",
     "output_type": "stream",
     "text": [
      "For ksys = 1.00, kh = 0.95, kmod = 0.60, fmk = 24.00, b = 50.00, d = 195.00, gm = 1.30\n",
      "MRd = 3.33 kNm\n"
     ]
    }
   ],
   "source": [
    "# section bending moment capacity\n",
    "fmk = timberMaterials.loc['C24','fmk']\n",
    "kmod = 0.60 # for permanent loading\n",
    "kcrit = 1 # check for long unrestrained beams\n",
    "b = 50\n",
    "d = 195\n",
    "kh = min(1.3, (150/d)**0.20) # for solid timber only - check for glulam etc\n",
    "ksys = 1 # can take 1.1 for load sharing systems\n",
    "gm = 1.30 # for solid softwood timber\n",
    "Z = b*d**2/6\n",
    "MRd = kcrit * ksys * kh * kmod * fmk * Z / gm * 10**-6\n",
    "print('For ksys = {:.2f}, kh = {:.2f}, kmod = {:.2f}, fmk = {:.2f}, b = {:.2f}, d = {:.2f}, gm = {:.2f}\\nMRd = {:.2f} kNm'.format(ksys, kh, kmod,fmk,b,d,gm,MRd))"
   ]
  },
  {
   "cell_type": "markdown",
   "metadata": {},
   "source": [
    "## Shear"
   ]
  },
  {
   "cell_type": "markdown",
   "metadata": {},
   "source": [
    "The shear capacity of a timber section is given by:\n",
    "\n",
    "$$ V_{Rd} = \\frac{k_{mod} f_{vk}}{\\gamma_m} \\frac{2}{3} bd $$"
   ]
  },
  {
   "cell_type": "code",
   "execution_count": 7,
   "metadata": {
    "jupyter": {
     "source_hidden": true
    }
   },
   "outputs": [
    {
     "name": "stdout",
     "output_type": "stream",
     "text": [
      "For fvk = 2.50, kmod = 0.60, gm = 1.30, b = 50.00, d = 195.00\n",
      "VRd = 7.50kN\n"
     ]
    }
   ],
   "source": [
    "# section shear capacity\n",
    "fvk = timberMaterials.loc['C24','fvk']\n",
    "b = 50\n",
    "d = 195\n",
    "kmod = 0.60\n",
    "gm = 1.30\n",
    "VRd = kmod* fvk * 2 * b * d / (3 * gm) * 10**-3\n",
    "print('For fvk = {:.2f}, kmod = {:.2f}, gm = {:.2f}, b = {:.2f}, d = {:.2f}\\nVRd = {:.2f}kN'.\n",
    "     format(fvk, kmod, gm, b, d, VRd))\n",
    "\n"
   ]
  },
  {
   "cell_type": "markdown",
   "metadata": {},
   "source": [
    "## Axial Compression"
   ]
  },
  {
   "cell_type": "markdown",
   "metadata": {},
   "source": [
    "\\begin{align}\n",
    "\\lambda_{rel,y} = \\frac{\\lambda_y}{\\pi} \\sqrt{\\frac{f_{c,0,k}}{E_{0.005}}} \\text{ Where } \\lambda_y = \\frac{le_y}{r_y}\\\\\n",
    "\\lambda_{rel,z} = \\frac{\\lambda_z}{\\pi} \\sqrt{\\frac{f_{c,0,k}}{E_{0.005}}} \\text{ Where } \\lambda_z = \\frac{le_z}{r_z}\\\\\n",
    "\\end{align}"
   ]
  },
  {
   "cell_type": "markdown",
   "metadata": {},
   "source": [
    "# Racking Shear Calculations"
   ]
  },
  {
   "cell_type": "markdown",
   "metadata": {},
   "source": [
    "The design racking strength of a wall diaphragm $F_{i,v,Rd} = K_{opening} K_{i,w} f_{p,d,t} L$\n",
    "\n",
    "Where: $f_{p,d,t} = f_{p,d,1} + K_{comb} f_{p,d,2}$\n",
    "\n",
    "The design shear capacity per unit length of the perimeter fasteners to the sheathing ($f_{p,d}$) is given by:\n",
    "\n",
    "$$f_{p,d} = \\frac{1.2 F_{t,Rd} (1+2.5s)}{s}$$\n",
    "\n",
    "Where $F_{f,Rd}$ is the design capacity of a single fixing."
   ]
  },
  {
   "cell_type": "markdown",
   "metadata": {},
   "source": [
    "# Connections"
   ]
  },
  {
   "cell_type": "markdown",
   "metadata": {},
   "source": [
    "## Withdrawal Capacities"
   ]
  },
  {
   "cell_type": "code",
   "execution_count": 2,
   "metadata": {
    "jupyter": {
     "source_hidden": true
    }
   },
   "outputs": [
    {
     "name": "stdout",
     "output_type": "stream",
     "text": [
      "Characteristic withdrawal resistance for smooth nails:\n"
     ]
    },
    {
     "data": {
      "text/html": [
       "<div>\n",
       "<style scoped>\n",
       "    .dataframe tbody tr th:only-of-type {\n",
       "        vertical-align: middle;\n",
       "    }\n",
       "\n",
       "    .dataframe tbody tr th {\n",
       "        vertical-align: top;\n",
       "    }\n",
       "\n",
       "    .dataframe thead th {\n",
       "        text-align: right;\n",
       "    }\n",
       "</style>\n",
       "<table border=\"1\" class=\"dataframe\">\n",
       "  <thead>\n",
       "    <tr style=\"text-align: right;\">\n",
       "      <th></th>\n",
       "      <th>C16</th>\n",
       "      <th>C24</th>\n",
       "    </tr>\n",
       "  </thead>\n",
       "  <tbody>\n",
       "    <tr>\n",
       "      <th>2.65</th>\n",
       "      <td>5.09</td>\n",
       "      <td>6.49</td>\n",
       "    </tr>\n",
       "    <tr>\n",
       "      <th>2.80</th>\n",
       "      <td>5.38</td>\n",
       "      <td>6.86</td>\n",
       "    </tr>\n",
       "    <tr>\n",
       "      <th>3.00</th>\n",
       "      <td>5.77</td>\n",
       "      <td>7.35</td>\n",
       "    </tr>\n",
       "    <tr>\n",
       "      <th>3.10</th>\n",
       "      <td>5.96</td>\n",
       "      <td>7.60</td>\n",
       "    </tr>\n",
       "    <tr>\n",
       "      <th>3.35</th>\n",
       "      <td>6.44</td>\n",
       "      <td>8.21</td>\n",
       "    </tr>\n",
       "    <tr>\n",
       "      <th>3.75</th>\n",
       "      <td>7.21</td>\n",
       "      <td>9.19</td>\n",
       "    </tr>\n",
       "    <tr>\n",
       "      <th>4.00</th>\n",
       "      <td>7.69</td>\n",
       "      <td>9.80</td>\n",
       "    </tr>\n",
       "  </tbody>\n",
       "</table>\n",
       "</div>"
      ],
      "text/plain": [
       "       C16   C24\n",
       "2.65  5.09  6.49\n",
       "2.80  5.38  6.86\n",
       "3.00  5.77  7.35\n",
       "3.10  5.96  7.60\n",
       "3.35  6.44  8.21\n",
       "3.75  7.21  9.19\n",
       "4.00  7.69  9.80"
      ]
     },
     "metadata": {},
     "output_type": "display_data"
    }
   ],
   "source": [
    "withdrawalData = {'C16':[5.09,5.38,5.77,5.96,6.44,7.21,7.69],\n",
    "                 'C24':[6.49,6.86,7.35,7.60,8.21,9.19,9.80]}\n",
    "withdrawal = pd.DataFrame(withdrawalData)\n",
    "nailDiameters = [2.65, 2.80, 3, 3.1, 3.35, 3.75, 4]\n",
    "withdrawal.index = nailDiameters\n",
    "print('Characteristic withdrawal resistance for smooth nails:')\n",
    "display(withdrawal)"
   ]
  },
  {
   "cell_type": "markdown",
   "metadata": {},
   "source": [
    "The withdrawl load of a screw is given by:\n",
    "\n",
    "$$R_{d,withdrawal} = \\frac{4t_{pen}nk_{mod}R_k}{\\gamma_M}$$"
   ]
  },
  {
   "cell_type": "code",
   "execution_count": 5,
   "metadata": {
    "jupyter": {
     "source_hidden": true
    }
   },
   "outputs": [
    {
     "name": "stdout",
     "output_type": "stream",
     "text": [
      "Withdrawl capacity of a 4.00mm diameter nail with a pointside penetration of 120.00mm is 2171.08N\n"
     ]
    }
   ],
   "source": [
    "# axial withdrawal load for a screw \n",
    "# tpen >= 8 x nominal diameter\n",
    "grade = 'C24'\n",
    "n = 1\n",
    "d = 4\n",
    "Rk = withdrawal.loc[d,grade]\n",
    "kmod = 0.6\n",
    "tpen = 120\n",
    "gm = 1.3\n",
    "\n",
    "Rdw = 4 * tpen * n * kmod * Rk / gm\n",
    "print('Withdrawl capacity of a {:.2f}mm diameter nail with a pointside penetration of {:.2f}mm is {:.2f}N'.\n",
    "      format(d, tpen, Rdw))\n"
   ]
  },
  {
   "cell_type": "markdown",
   "metadata": {},
   "source": [
    "# Force effects"
   ]
  },
  {
   "cell_type": "markdown",
   "metadata": {},
   "source": [
    "## Deflection"
   ]
  },
  {
   "cell_type": "markdown",
   "metadata": {},
   "source": [
    "Combined bending and shear deflection is a simply supported beam is given by:\n",
    "\n",
    "$$\\delta = \\frac{5wl^4}{384EI} + \\frac{V_{app}}{8 G_m bd}$$"
   ]
  },
  {
   "cell_type": "code",
   "execution_count": 47,
   "metadata": {},
   "outputs": [],
   "source": [
    "grade_ref = 'C24'\n",
    "E = timber_properties.loc[grade_ref, 'E0m']"
   ]
  },
  {
   "cell_type": "markdown",
   "metadata": {},
   "source": []
  }
 ],
 "metadata": {
  "kernelspec": {
   "display_name": "Python 3",
   "language": "python",
   "name": "python3"
  },
  "language_info": {
   "codemirror_mode": {
    "name": "ipython",
    "version": 3
   },
   "file_extension": ".py",
   "mimetype": "text/x-python",
   "name": "python",
   "nbconvert_exporter": "python",
   "pygments_lexer": "ipython3",
   "version": "3.8.5"
  },
  "latex_envs": {
   "LaTeX_envs_menu_present": true,
   "autoclose": false,
   "autocomplete": true,
   "bibliofile": "biblio.bib",
   "cite_by": "apalike",
   "current_citInitial": 1,
   "eqLabelWithNumbers": true,
   "eqNumInitial": 1,
   "hotkeys": {
    "equation": "Ctrl-E",
    "itemize": "Ctrl-I"
   },
   "labels_anchors": false,
   "latex_user_defs": false,
   "report_style_numbering": false,
   "user_envs_cfg": false
  }
 },
 "nbformat": 4,
 "nbformat_minor": 4
}
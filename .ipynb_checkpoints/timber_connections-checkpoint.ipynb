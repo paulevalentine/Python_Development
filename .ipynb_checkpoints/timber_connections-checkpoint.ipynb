{
 "cells": [
  {
   "cell_type": "markdown",
   "id": "patent-remove",
   "metadata": {},
   "source": [
    "# Timber Connections\n",
    "\n",
    "## Screws\n",
    "### Withdrawal capacity\n",
    "\n",
    "The characteristic screw withdrawl load for the pointside penetration is calculated from:\n",
    "\n",
    "\\begin{align}\n",
    "F_{ax,k,Rk} = \\frac{n_{ef} f_{ax,k} d l_e k_d}{1.20 cos^2\\alpha +sin^2\\alpha} \\left(\\frac{\\rho_k}{\\rho_a}\\right)^{0.80}\n",
    "\\end{align}\n",
    "\n",
    "Where $l_e$ is the penetration length of the thread and $k_d$ is the minimum of 1 and $d/8$ with $d$ being the outer thread diameter. \\alpha is the angle of the screw to the grain $(\\alpha > 30)$. When $f_{ax,k}$ is established $\\rho_a$ is the density at which it is established, otherwise $\\rho_a$ and $\\rho_k$ are taken to be equal and $f_{ax,k}$ is taken from the below.\n",
    "\n",
    "\\begin{align}\n",
    "f_{ax,k} = 0.52 d ^{-0.50} l_{ef}^{-0.1} \\rho_k^{0.08}\n",
    "\\end{align}\n",
    "\n",
    "The characteristic headside pull through resistance is calculated from:\n",
    "\n",
    "\\begin{align}\n",
    "F_{ax,Rk} = n_{ef} f_{head,k} d_h^2 \\left(\\frac{\\rho_k}{\\rho_a}\\right)^{0.80}\n",
    "\\end{align}\n",
    "\n",
    "Where $f_{head,k}$ is not established it is conservatively taken from that for smooth nails:\n",
    "\n",
    "\\begin{align}\n",
    "f_{head,k} = 70x10^{-6} \\rho_k^2\n",
    "\\end{align}\n",
    "\n",
    "The design withdrawal resistance is taken to be the minimum of the above two conditions applied in the below:\n",
    "\n",
    "\\begin{align}\n",
    "F_{ax,Rd} = \\frac{k_{mod} F_{ax,Rk}}{\\gamma_M}\n",
    "\\end{align}\n",
    "\n",
    "The characteristic tensile capacity or head tear off capacity of the shank is taken from:\n",
    "\n",
    "\\begin{align}\n",
    "f_{t,Rk} = n_{ef} f_{tens,k}\n",
    "\\end{align}\n",
    "\n",
    "The effective number of screws is $n_{ef} = n^{0.90}$ where $n$ is the actual number of screws.\n",
    "\n",
    "### Shear capacity\n",
    "\n",
    "### Combined axial and shear\n",
    "\n",
    "Where the screw resist both axial and shear the following relationship is satisfied:\n",
    "\n",
    "\\begin{align}\n",
    "\\left(\\frac{F_{ax,Ed}}{F_{ax,Rd}}\\right)^2 + \\left(\\frac{F_{v,Ed}}{F_{v,Rd}}\\right)^2 \\leq 1\n",
    "\\end{align}"
   ]
  },
  {
   "cell_type": "code",
   "execution_count": 1,
   "id": "chronic-armenia",
   "metadata": {},
   "outputs": [],
   "source": [
    "from timber_connection import *"
   ]
  },
  {
   "cell_type": "code",
   "execution_count": 5,
   "id": "technological-hebrew",
   "metadata": {},
   "outputs": [
    {
     "name": "stdout",
     "output_type": "stream",
     "text": [
      "Withdrawal load of the connection = 738.53N\n"
     ]
    }
   ],
   "source": [
    "# form a screw a connection\n",
    "s = ScrewConnection(diam=5, diamh=10, grade='C24', load_duration='permanent',\n",
    "                   service_class=2)\n",
    "# calculate the withdrawal capacity for a given number and pointside penetration\n",
    "withdrawal = s.screw_axial(tpen=100, n=2)\n",
    "print(f'Withdrawal load of the connection = {withdrawal :.2f}N')"
   ]
  },
  {
   "cell_type": "markdown",
   "id": "compact-electric",
   "metadata": {},
   "source": [
    "## Withdrawl capacity of a screw\n",
    "\n",
    "The characteristic pointside withdrawal and headside pull through strength is calculated by the following respectively:\n",
    "\n",
    "\\begin{align}\n",
    "f_{ax,k}=20x10^{-6} \\rho_k^2\\\\\n",
    "f_{head,k}=70x10^{-6}\\rho k^2\n",
    "\\end{align}\n",
    "\n",
    "For smooth nails the characteristic withdrawal capacity capacity is calculated from the minimum of these functions:\n",
    "\n",
    "\\begin{align}\n",
    "F_{ax,Rk}=f_{ax, k} d t_{pen}\\\\\n",
    "F_{ax,Rk}=f_{ax,k} d t + f_{head,k} d_h^2\n",
    "\\end{align}\n",
    "\n",
    "The desing withdrawal strength is calculated from:\n",
    "\n",
    "\\begin{align}\n",
    "F_{ax,Rd} = \\frac{k_{mod}F_{ax,Rk}}{\\gamma_M}\n",
    "\\end{align}"
   ]
  },
  {
   "cell_type": "code",
   "execution_count": 3,
   "id": "certified-phase",
   "metadata": {},
   "outputs": [
    {
     "ename": "TypeError",
     "evalue": "screw_withdrawal() got an unexpected keyword argument 't'",
     "output_type": "error",
     "traceback": [
      "\u001b[0;31m---------------------------------------------------------------------------\u001b[0m",
      "\u001b[0;31mTypeError\u001b[0m                                 Traceback (most recent call last)",
      "\u001b[0;32m<ipython-input-3-5e7a807e5c5b>\u001b[0m in \u001b[0;36m<module>\u001b[0;34m\u001b[0m\n\u001b[0;32m----> 1\u001b[0;31m \u001b[0ms\u001b[0m\u001b[0;34m.\u001b[0m\u001b[0mscrew_withdrawal\u001b[0m\u001b[0;34m(\u001b[0m\u001b[0mtpen\u001b[0m\u001b[0;34m=\u001b[0m\u001b[0;36m100\u001b[0m\u001b[0;34m,\u001b[0m \u001b[0mt\u001b[0m\u001b[0;34m=\u001b[0m\u001b[0;36m75\u001b[0m\u001b[0;34m,\u001b[0m \u001b[0mnumber\u001b[0m\u001b[0;34m=\u001b[0m\u001b[0;36m1\u001b[0m\u001b[0;34m)\u001b[0m\u001b[0;34m\u001b[0m\u001b[0;34m\u001b[0m\u001b[0m\n\u001b[0m",
      "\u001b[0;31mTypeError\u001b[0m: screw_withdrawal() got an unexpected keyword argument 't'"
     ]
    }
   ],
   "source": [
    "s.screw_withdrawal(tpen=100, t=75, number=1)"
   ]
  },
  {
   "cell_type": "code",
   "execution_count": null,
   "id": "lined-supplier",
   "metadata": {},
   "outputs": [],
   "source": []
  }
 ],
 "metadata": {
  "kernelspec": {
   "display_name": "Python 3",
   "language": "python",
   "name": "python3"
  },
  "language_info": {
   "codemirror_mode": {
    "name": "ipython",
    "version": 3
   },
   "file_extension": ".py",
   "mimetype": "text/x-python",
   "name": "python",
   "nbconvert_exporter": "python",
   "pygments_lexer": "ipython3",
   "version": "3.9.2"
  }
 },
 "nbformat": 4,
 "nbformat_minor": 5
}

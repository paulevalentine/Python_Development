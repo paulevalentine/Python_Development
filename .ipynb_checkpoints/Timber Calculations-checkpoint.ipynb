{
 "cells": [
  {
   "cell_type": "markdown",
   "metadata": {},
   "source": [
<<<<<<< HEAD
    "# Timber Section Capacity Calculations"
=======
    "# Timber Beam Design Example"
   ]
  },
  {
   "cell_type": "code",
   "execution_count": 1,
   "metadata": {
    "collapsed": false,
    "jupyter": {
     "outputs_hidden": false
    },
    "pycharm": {
     "name": "#%%\n"
    }
   },
   "outputs": [],
   "source": [
    "from timber import *"
>>>>>>> 88990738477e86e2bb15303c3c64be5005e62370
   ]
  },
  {
   "cell_type": "markdown",
   "metadata": {},
   "source": [
<<<<<<< HEAD
    "## Ultimate Limit State\n",
    "\n",
    "### Bending\n",
    "\n",
    "The design strength of a timber beam is given by:\n",
    "\n",
    "\\begin{align}\n",
    "f_{m,d} = \\frac{k_{mod} k_h k_{sys} k_{crit} f_{mk}}{\\gamma_M}\\\\\n",
    "h \\leq 150 \\implies  k_h = \\left(\\frac{150}{h}\\right)^{0.20}\n",
    "\\end{align}\n",
    "\n",
    "It is assumed that the beams have adequate restraint such that $k_{crit} = 1$. For load sharing systems $k_{sys} = 1.1$ and for other systems $k_{sys} = 1.0$. $k_{mod}$ is taken from table 3.1 of BS EN 1995-1-1.The partial factor for the timber is taken to be $\\gamma_m=1.3$.\n",
    "\n",
    "The actual design stress within the beam is calculated by:\n",
    "\n",
    "\\begin{align}\n",
    "\\sigma_{m,d} = \\frac{M_d}{Z}\n",
    "\\end{align}\n",
    "\n",
    "Uniaxial bending strength is satisfied if:\n",
    "\n",
    "$$ \\sigma_{m,d} \\leq f_{m,d} $$\n",
    "\n",
    "### Shear\n",
    "\n",
    "The design shear strength of a timber section is given by:\n",
    "\n",
    "$$ f_{v,d} = \\frac{k_{mod} k_{sys} f_{vk}}{\\gamma_m} $$\n",
    "\n",
    "The ULS stress within the section is calculated from:\n",
    "\n",
    "$$ \\tau_d = \\frac{3}{2} \\frac{V}{k_{cr}bh}$$\n",
    "\n",
    "Sheat strength is satisfied if:\n",
    "\n",
    "$$ \\tau_d \\leq f_{v,d} $$\n",
    "\n",
    "The value of $k_{cr}$ allows for the effect of longitudinal cracks in the timber and is taken to be 0.67 as recommended in Cl 6.1.7 (2) of BS EN 1995-1-1.\n",
    "\n",
    "### Axial compression parallel to the grain\n",
    "\n",
    "The design strength parallel to the grain is given by:\n",
    "\n",
    "\\begin{align}\n",
    "f_{c,0,d} = \\frac{k_{sys} k_{mod} f_{c,0,k}}{\\gamma_M}\n",
    "\\end{align}\n",
    "\n",
    "The following equations from BS EN 1995-1-1 Cl 6.3.2 are used in assessing the reduction in design strength due to the effects of slenderness. \n",
    "\n",
    "\\begin{align}\n",
    "\\lambda_{rel,y} = \\frac{\\lambda_y}{\\pi} \\sqrt{\\frac{f_{c,0,k}}{E_{0.005}}} \\text{ Where } \\lambda_y = \\frac{le_y}{r_y}\\\\\n",
    "\\lambda_{rel,z} = \\frac{\\lambda_z}{\\pi} \\sqrt{\\frac{f_{c,0,k}}{E_{0.005}}} \\text{ Where } \\lambda_z = \\frac{le_z}{r_z}\\\\\n",
    "k_y = 0.50(1+\\beta_c(\\lambda_{rel,y} - 0.30)+\\lambda_{rel,y}^2)\\\\\n",
    "k_z = 0.50(1+\\beta_c(\\lambda_{rel,z} - 0.30)+\\lambda_{rel,z}^2)\\\\\n",
    "k_{c,y} = \\frac{1}{k_y + \\sqrt(k_y^2 - \\lambda_{rel,y}^2)}\\\\\n",
    "k_{c,z} = \\frac{1}{k_z + \\sqrt(k_z^2 - \\lambda_{rel,z}^2)}\n",
    "\\end{align}\n",
    "\n",
    "A compliant design for axial compression demonstrates the following for buckling about the $y$ and $z$ axis:\n",
    "\n",
    "\\begin{align}\n",
    "\\sigma_{c,0,d} \\leq k_{c,y} f_{c,0,d}\\\\\n",
    "\\sigma_{c,0,d} \\leq k_{c,z} f_{c,0,d}\n",
    "\\end{align}\n",
=======
    "The bending capacity of a timber section is given by:\n",
    "\n",
    "\\begin{align}\n",
    "&M_{Rd} = \\frac{k_{mod} k_h k_{sys} k_{crit} f_{mk}}{\\gamma_m} Z\\\\\n",
    "&Z = \\frac{b h^2}{6}\\\\\n",
    "&h \\leq 150 \\implies  k_h = \\left(\\frac{150}{h}\\right)^{0.20}\n",
    "\\end{align}\n",
    "\n",
    "\n",
    "It is assumed that the beams have adequate restraint such that $k_{crit} = 1$. For load sharing systems $k_{sys} = 1.1$ and for other systems $k_{sys} = 1.0$.\n",
    "\n",
    "The partial factor for the timber is taken to be $\\gamma_m=1.3$.\n",
    "\n",
    "The shear capacity of a timber section is given by:\n",
    "\n",
    "$$ V_{Rd} = \\frac{k_{mod} k_{cr} k_{sys} f_{vk}}{\\gamma_m} \\frac{2}{3} bh $$\n",
>>>>>>> 88990738477e86e2bb15303c3c64be5005e62370
    "\n",
    "The plot below gives the the design moment and shear capacity of the timber section."
   ]
  },
  {
   "cell_type": "code",
<<<<<<< HEAD
   "execution_count": 1,
   "metadata": {},
   "outputs": [],
   "source": [
    "from timber import *"
   ]
  },
  {
   "cell_type": "code",
   "execution_count": 8,
=======
   "execution_count": 2,
>>>>>>> 88990738477e86e2bb15303c3c64be5005e62370
   "metadata": {
    "tags": []
   },
   "outputs": [
    {
<<<<<<< HEAD
     "name": "stdout",
     "output_type": "stream",
     "text": [
      "This is k_cy 0.7589660590689655\n",
      "This is k_cz 1.0638297872340425\n"
     ]
    },
    {
     "data": {
      "image/png": "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\n",
=======
     "data": {
      "image/png": "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\n",
>>>>>>> 88990738477e86e2bb15303c3c64be5005e62370
      "text/plain": [
       "<Figure size 360x288 with 1 Axes>"
      ]
     },
     "metadata": {
      "needs_background": "light"
     },
     "output_type": "display_data"
    }
   ],
   "source": [
    "# For a timber section and print the capacities\n",
<<<<<<< HEAD
    "b1 = TimberBeam(b=75, h=195, grade='C24', ksys=1, service_class=1, \n",
    "                ley=3000, lez=0)\n",
=======
    "b1 = TimberBeam(b=44, h=195, grade='C24', ksys=1, service_class=1)\n",
>>>>>>> 88990738477e86e2bb15303c3c64be5005e62370
    "b1.print_capacities(M=3, V=6)"
   ]
  },
  {
   "cell_type": "markdown",
   "metadata": {},
   "source": [
<<<<<<< HEAD
=======
    "## Axial Compression"
   ]
  },
  {
   "cell_type": "markdown",
   "metadata": {},
   "source": [
    "\\begin{align}\n",
    "\\lambda_{rel,y} = \\frac{\\lambda_y}{\\pi} \\sqrt{\\frac{f_{c,0,k}}{E_{0.005}}} \\text{ Where } \\lambda_y = \\frac{le_y}{r_y}\\\\\n",
    "\\lambda_{rel,z} = \\frac{\\lambda_z}{\\pi} \\sqrt{\\frac{f_{c,0,k}}{E_{0.005}}} \\text{ Where } \\lambda_z = \\frac{le_z}{r_z}\\\\\n",
    "k_y = 0.50(1+\\beta_c(\\lambda_{rel,y} - 0.30)+\\lambda_{rel,y}^2)\\\\\n",
    "k_z = 0.50(1+\\beta_c(\\lambda_{rel,z} - 0.30)+\\lambda_{rel,z}^2)\\\\\n",
    "k_{c,y} = \\frac{1}{k_y + \\sqrt(k_y^2 - \\lambda_{rel,y}^2)}\\\\\n",
    "k_{c,z} = \\frac{1}{k_z + \\sqrt(k_z^2 - \\lambda_{rel,z}^2)}\n",
    "\\end{align}"
   ]
  },
  {
   "cell_type": "markdown",
   "metadata": {},
   "source": [
>>>>>>> 88990738477e86e2bb15303c3c64be5005e62370
    "# Racking Shear Calculations"
   ]
  },
  {
   "cell_type": "markdown",
   "metadata": {},
   "source": [
    "The design racking strength of a wall diaphragm $F_{i,v,Rd} = K_{opening} K_{i,w} f_{p,d,t} L$\n",
    "\n",
    "Where: $f_{p,d,t} = f_{p,d,1} + K_{comb} f_{p,d,2}$\n",
    "\n",
    "The design shear capacity per unit length of the perimeter fasteners to the sheathing ($f_{p,d}$) is given by:\n",
    "\n",
    "$$f_{p,d} = \\frac{1.2 F_{t,Rd} (1+2.5s)}{s}$$\n",
    "\n",
    "Where $F_{f,Rd}$ is the design capacity of a single fixing."
   ]
  },
  {
   "cell_type": "markdown",
   "metadata": {},
   "source": [
    "# Connections"
   ]
  },
  {
   "cell_type": "markdown",
   "metadata": {},
   "source": [
    "## Withdrawal Capacities"
   ]
  },
  {
   "cell_type": "code",
   "execution_count": 3,
   "metadata": {
<<<<<<< HEAD
    "tags": []
=======
    "jupyter": {
     "source_hidden": true
    }
>>>>>>> 88990738477e86e2bb15303c3c64be5005e62370
   },
   "outputs": [
    {
     "name": "stdout",
     "output_type": "stream",
     "text": [
      "Characteristic withdrawal resistance for smooth nails:\n"
     ]
    },
    {
     "data": {
      "text/html": [
       "<div>\n",
       "<style scoped>\n",
       "    .dataframe tbody tr th:only-of-type {\n",
       "        vertical-align: middle;\n",
       "    }\n",
       "\n",
       "    .dataframe tbody tr th {\n",
       "        vertical-align: top;\n",
       "    }\n",
       "\n",
       "    .dataframe thead th {\n",
       "        text-align: right;\n",
       "    }\n",
       "</style>\n",
       "<table border=\"1\" class=\"dataframe\">\n",
       "  <thead>\n",
       "    <tr style=\"text-align: right;\">\n",
       "      <th></th>\n",
       "      <th>C16</th>\n",
       "      <th>C24</th>\n",
       "    </tr>\n",
       "  </thead>\n",
       "  <tbody>\n",
       "    <tr>\n",
       "      <th>2.65</th>\n",
       "      <td>5.09</td>\n",
       "      <td>6.49</td>\n",
       "    </tr>\n",
       "    <tr>\n",
       "      <th>2.80</th>\n",
       "      <td>5.38</td>\n",
       "      <td>6.86</td>\n",
       "    </tr>\n",
       "    <tr>\n",
       "      <th>3.00</th>\n",
       "      <td>5.77</td>\n",
       "      <td>7.35</td>\n",
       "    </tr>\n",
       "    <tr>\n",
       "      <th>3.10</th>\n",
       "      <td>5.96</td>\n",
       "      <td>7.60</td>\n",
       "    </tr>\n",
       "    <tr>\n",
       "      <th>3.35</th>\n",
       "      <td>6.44</td>\n",
       "      <td>8.21</td>\n",
       "    </tr>\n",
       "    <tr>\n",
       "      <th>3.75</th>\n",
       "      <td>7.21</td>\n",
       "      <td>9.19</td>\n",
       "    </tr>\n",
       "    <tr>\n",
       "      <th>4.00</th>\n",
       "      <td>7.69</td>\n",
       "      <td>9.80</td>\n",
       "    </tr>\n",
       "  </tbody>\n",
       "</table>\n",
       "</div>"
      ],
      "text/plain": [
       "       C16   C24\n",
       "2.65  5.09  6.49\n",
       "2.80  5.38  6.86\n",
       "3.00  5.77  7.35\n",
       "3.10  5.96  7.60\n",
       "3.35  6.44  8.21\n",
       "3.75  7.21  9.19\n",
       "4.00  7.69  9.80"
      ]
     },
     "metadata": {},
     "output_type": "display_data"
    }
   ],
   "source": [
    "withdrawalData = {'C16':[5.09,5.38,5.77,5.96,6.44,7.21,7.69],\n",
    "                 'C24':[6.49,6.86,7.35,7.60,8.21,9.19,9.80]}\n",
    "withdrawal = pd.DataFrame(withdrawalData)\n",
    "nailDiameters = [2.65, 2.80, 3, 3.1, 3.35, 3.75, 4]\n",
    "withdrawal.index = nailDiameters\n",
    "print('Characteristic withdrawal resistance for smooth nails:')\n",
    "display(withdrawal)"
   ]
  },
  {
   "cell_type": "markdown",
   "metadata": {},
   "source": [
    "The withdrawl load of a screw is given by:\n",
    "\n",
    "$$R_{d,withdrawal} = \\frac{4t_{pen}nk_{mod}R_k}{\\gamma_M}$$"
   ]
  },
  {
   "cell_type": "code",
   "execution_count": 4,
   "metadata": {
    "jupyter": {
     "source_hidden": true
    }
   },
   "outputs": [
    {
     "name": "stdout",
     "output_type": "stream",
     "text": [
      "Withdrawl capacity of a 4.00mm diameter nail with a pointside penetration of 120.00mm is 2171.08N\n"
     ]
    }
   ],
   "source": [
    "# axial withdrawal load for a screw \n",
    "# tpen >= 8 x nominal diameter\n",
    "grade = 'C24'\n",
    "n = 1\n",
    "d = 4\n",
    "Rk = withdrawal.loc[d,grade]\n",
    "kmod = 0.6\n",
    "tpen = 120\n",
    "gm = 1.3\n",
    "\n",
    "Rdw = 4 * tpen * n * kmod * Rk / gm\n",
    "print('Withdrawl capacity of a {:.2f}mm diameter nail with a pointside penetration of {:.2f}mm is {:.2f}N'.\n",
    "      format(d, tpen, Rdw))\n"
   ]
  },
  {
   "cell_type": "markdown",
   "metadata": {},
   "source": [
    "# Force effects"
   ]
  },
  {
   "cell_type": "markdown",
   "metadata": {},
   "source": [
    "## Deflection"
   ]
  },
  {
   "cell_type": "markdown",
   "metadata": {},
   "source": [
    "Combined bending and shear deflection is a simply supported beam is given by:\n",
    "\n",
    "$$\\delta = \\frac{5wl^4}{384EI} + \\frac{V_{app}}{8 G_m bd}$$"
   ]
  },
  {
<<<<<<< HEAD
=======
   "cell_type": "code",
   "execution_count": 5,
   "metadata": {},
   "outputs": [
    {
     "ename": "NameError",
     "evalue": "name 'timber_properties' is not defined",
     "output_type": "error",
     "traceback": [
      "\u001b[0;31m---------------------------------------------------------------------------\u001b[0m",
      "\u001b[0;31mNameError\u001b[0m                                 Traceback (most recent call last)",
      "\u001b[0;32m<ipython-input-5-e05b8b848026>\u001b[0m in \u001b[0;36m<module>\u001b[0;34m\u001b[0m\n\u001b[1;32m      1\u001b[0m \u001b[0mgrade_ref\u001b[0m \u001b[0;34m=\u001b[0m \u001b[0;34m'C24'\u001b[0m\u001b[0;34m\u001b[0m\u001b[0;34m\u001b[0m\u001b[0m\n\u001b[0;32m----> 2\u001b[0;31m \u001b[0mE\u001b[0m \u001b[0;34m=\u001b[0m \u001b[0mtimber_properties\u001b[0m\u001b[0;34m.\u001b[0m\u001b[0mloc\u001b[0m\u001b[0;34m[\u001b[0m\u001b[0mgrade_ref\u001b[0m\u001b[0;34m,\u001b[0m \u001b[0;34m'E0m'\u001b[0m\u001b[0;34m]\u001b[0m\u001b[0;34m\u001b[0m\u001b[0;34m\u001b[0m\u001b[0m\n\u001b[0m",
      "\u001b[0;31mNameError\u001b[0m: name 'timber_properties' is not defined"
     ]
    }
   ],
   "source": [
    "grade_ref = 'C24'\n",
    "E = timber_properties.loc[grade_ref, 'E0m']"
   ]
  },
  {
>>>>>>> 88990738477e86e2bb15303c3c64be5005e62370
   "cell_type": "markdown",
   "metadata": {},
   "source": []
  }
 ],
 "metadata": {
  "kernelspec": {
   "display_name": "Python 3",
   "language": "python",
   "name": "python3"
  },
  "language_info": {
   "codemirror_mode": {
    "name": "ipython",
    "version": 3
   },
   "file_extension": ".py",
   "mimetype": "text/x-python",
   "name": "python",
   "nbconvert_exporter": "python",
   "pygments_lexer": "ipython3",
<<<<<<< HEAD
   "version": "3.9.1+"
=======
   "version": "3.9.2"
>>>>>>> 88990738477e86e2bb15303c3c64be5005e62370
  },
  "latex_envs": {
   "LaTeX_envs_menu_present": true,
   "autoclose": false,
   "autocomplete": true,
   "bibliofile": "biblio.bib",
   "cite_by": "apalike",
   "current_citInitial": 1,
   "eqLabelWithNumbers": true,
   "eqNumInitial": 1,
   "hotkeys": {
    "equation": "Ctrl-E",
    "itemize": "Ctrl-I"
   },
   "labels_anchors": false,
   "latex_user_defs": false,
   "report_style_numbering": false,
   "user_envs_cfg": false
  }
 },
 "nbformat": 4,
 "nbformat_minor": 4
}

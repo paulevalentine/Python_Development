{
 "cells": [
  {
   "cell_type": "markdown",
   "id": "meaningful-course",
   "metadata": {},
   "source": [
    "# Timber Connections\n",
    "\n",
    "## Screw withdrawal load\n",
    "\n",
    "The screw withdrawl load is calculated from:\n",
    "\n",
    "\\begin{align}\n",
    "R_{dw}=\\frac{4t_{pen} n k_{mod} R_k}{\\gamma_M}\n",
    "\\end{align}"
   ]
  },
  {
   "cell_type": "code",
   "execution_count": 1,
   "id": "divided-score",
   "metadata": {},
   "outputs": [],
   "source": [
    "from timber_connection import *"
   ]
  },
  {
   "cell_type": "code",
   "execution_count": 2,
   "id": "gorgeous-archives",
   "metadata": {},
   "outputs": [
    {
     "name": "stdout",
     "output_type": "stream",
     "text": [
      "Withdrawal load of the connection = 1899.69N\n"
     ]
    }
   ],
   "source": [
    "s = ScrewConnection(diam=2.8, diamh=5.6, grade='C24', load_duration='short_term',\n",
    "                   service_class=2)\n",
    "withdrawal = s.withdrawal_screw(tpen=100, number=1)\n",
    "print(f'Withdrawal load of the connection = {withdrawal :.2f}N')"
   ]
  },
  {
   "cell_type": "markdown",
   "id": "adequate-slave",
   "metadata": {},
   "source": [
    "## Withdrawl capacity of a screw\n",
    "\n",
    "The characteristic pointside withdrawal and headside pull through strength is calculated by the following respectively:\n",
    "\n",
    "\\begin{align}\n",
    "f_{ax,k}=20x10^{-6} \\rho_k^2\\\\\n",
    "f_{head,k}=70x10^{-6}\\rho k^2\n",
    "\\end{align}\n",
    "\n",
    "For smooth nails the characteristic withdrawal capacity capacity is calculated from the minimum of these functions:\n",
    "\n",
    "\\begin{align}\n",
    "F_{ax,Rk}=f_{ax, k} d t_{pen}\\\\\n",
    "F_{ax,Rk}=f_{ax,k} d t + f_{head,k} d_h^2\n",
    "\\end{align}\n",
    "\n",
    "The desing withdrawal strength is calculated from:\n",
    "\n",
    "\\begin{align}\n",
    "F_{ax,Rd} = \\frac{k_{mod}F_{ax,Rk}}{\\gamma_M}\n",
    "\\end{align}"
   ]
  },
  {
   "cell_type": "code",
   "execution_count": 3,
   "id": "average-mathematics",
   "metadata": {},
   "outputs": [
    {
     "data": {
      "text/plain": [
       "1899.6923076923072"
      ]
     },
     "execution_count": 3,
     "metadata": {},
     "output_type": "execute_result"
    }
   ],
   "source": [
    "s.screw_withdrawal(tpen=100, t=75, number=1)"
   ]
  },
  {
   "cell_type": "code",
   "execution_count": null,
   "id": "divine-international",
   "metadata": {},
   "outputs": [],
   "source": []
  }
 ],
 "metadata": {
  "kernelspec": {
   "display_name": "Python 3",
   "language": "python",
   "name": "python3"
  },
  "language_info": {
   "codemirror_mode": {
    "name": "ipython",
    "version": 3
   },
   "file_extension": ".py",
   "mimetype": "text/x-python",
   "name": "python",
   "nbconvert_exporter": "python",
   "pygments_lexer": "ipython3",
   "version": "3.9.2"
  }
 },
 "nbformat": 4,
 "nbformat_minor": 5
}

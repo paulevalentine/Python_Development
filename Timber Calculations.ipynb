{
 "cells": [
  {
   "cell_type": "markdown",
   "metadata": {},
   "source": [
    "# Timber Section Capacity Calculations"
   ]
  },
  {
   "cell_type": "markdown",
   "metadata": {},
   "source": [
    "## Ultimate Limit State\n",
    "\n",
    "### Bending\n",
    "\n",
    "The design strength of a timber beam is given by:\n",
    "\n",
    "\\begin{align}\n",
    "f_{m,d} = \\frac{k_{mod} k_h k_{sys} k_{crit} f_{mk}}{\\gamma_M}\\\\\n",
    "h \\leq 150 \\implies  k_h = \\left(\\frac{150}{h}\\right)^{0.20}\n",
    "\\end{align}\n",
    "\n",
    "It is assumed that the beams have adequate restraint such that $k_{crit} = 1$. For load sharing systems $k_{sys} = 1.1$ and for other systems $k_{sys} = 1.0$. $k_{mod}$ is taken from table 3.1 of BS EN 1995-1-1.The partial factor for the timber is taken to be $\\gamma_m=1.3$.\n",
    "\n",
    "The actual design stress within the beam is calculated by:\n",
    "\n",
    "\\begin{align}\n",
    "\\sigma_{m,d} = \\frac{M_d}{Z}\n",
    "\\end{align}\n",
    "\n",
    "Uniaxial bending strength is satisfied if:\n",
    "\n",
    "$$ \\sigma_{m,d} \\leq f_{m,d} $$\n",
    "\n",
    "### Shear\n",
    "\n",
    "The design shear strength of a timber section is given by:\n",
    "\n",
    "$$ f_{v,d} = \\frac{k_{mod} k_{sys} f_{vk}}{\\gamma_m} $$\n",
    "\n",
    "The ULS stress within the section is calculated from:\n",
    "\n",
    "$$ \\tau_d = \\frac{3}{2} \\frac{V}{k_{cr}bh}$$\n",
    "\n",
    "Sheat strength is satisfied if:\n",
    "\n",
    "$$ \\tau_d \\leq f_{v,d} $$\n",
    "\n",
    "The value of $k_{cr}$ allows for the effect of longitudinal cracks in the timber and is taken to be 0.67 as recommended in Cl 6.1.7 (2) of BS EN 1995-1-1.\n",
    "\n",
    "### Axial compression parallel to the grain\n",
    "\n",
    "The design strength parallel to the grain is given by:\n",
    "\n",
    "\\begin{align}\n",
    "f_{c,0,d} = \\frac{k_{sys} k_{mod} f_{c,0,k}}{\\gamma_M}\n",
    "\\end{align}\n",
    "\n",
    "The following equations from BS EN 1995-1-1 Cl 6.3.2 are used in assessing the reduction in design strength due to the effects of slenderness. \n",
    "\n",
    "\\begin{align}\n",
    "\\lambda_{rel,y} = \\frac{\\lambda_y}{\\pi} \\sqrt{\\frac{f_{c,0,k}}{E_{0.005}}} \\text{ Where } \\lambda_y = \\frac{le_y}{r_y}\\\\\n",
    "\\lambda_{rel,z} = \\frac{\\lambda_z}{\\pi} \\sqrt{\\frac{f_{c,0,k}}{E_{0.005}}} \\text{ Where } \\lambda_z = \\frac{le_z}{r_z}\\\\\n",
    "k_y = 0.50(1+\\beta_c(\\lambda_{rel,y} - 0.30)+\\lambda_{rel,y}^2)\\\\\n",
    "k_z = 0.50(1+\\beta_c(\\lambda_{rel,z} - 0.30)+\\lambda_{rel,z}^2)\\\\\n",
    "k_{c,y} = \\frac{1}{k_y + \\sqrt(k_y^2 - \\lambda_{rel,y}^2)}\\\\\n",
    "k_{c,z} = \\frac{1}{k_z + \\sqrt(k_z^2 - \\lambda_{rel,z}^2)}\n",
    "\\end{align}\n",
    "\n",
    "A compliant design for axial compression demonstrates the following for buckling about the $y$ and $z$ axis:\n",
    "\n",
    "\\begin{align}\n",
    "\\sigma_{c,0,d} \\leq k_{c,y} f_{c,0,d}\\\\\n",
    "\\sigma_{c,0,d} \\leq k_{c,z} f_{c,0,d}\n",
    "\\end{align}\n",
    "\n",
    "The plot below gives the the design moment and shear capacity of the timber section."
   ]
  },
  {
   "cell_type": "code",
   "execution_count": 1,
   "metadata": {},
   "outputs": [],
   "source": [
    "from timber import *"
   ]
  },
  {
   "cell_type": "code",
   "execution_count": 14,
   "metadata": {
    "tags": []
   },
   "outputs": [
    {
     "name": "stdout",
     "output_type": "stream",
     "text": [
      "This is k_cy 0.7248061757170874\n",
      "This is k_cz 1.0638297872340425\n"
     ]
    },
    {
     "data": {
      "image/png": "[encoded data removed]",
      "text/plain": [
       "<Figure size 360x288 with 1 Axes>"
      ]
     },
     "metadata": {
      "needs_background": "light"
     },
     "output_type": "display_data"
    }
   ],
   "source": [
    "# For a timber section and print the capacities\n",
    "b1 = TimberBeam(b=50, h=195, grade='C16', ksys=1, service_class=2, \n",
    "                ley=3000, lez=0)\n",
    "b1.capacity_check(M=3, V=3, F=2)"
   ]
  },
  {
   "cell_type": "markdown",
   "metadata": {},
   "source": [
    "# Racking Shear Calculations"
   ]
  },
  {
   "cell_type": "markdown",
   "metadata": {},
   "source": [
    "The design racking strength of a wall diaphragm $F_{i,v,Rd} = K_{opening} K_{i,w} f_{p,d,t} L$\n",
    "\n",
    "Where: $f_{p,d,t} = f_{p,d,1} + K_{comb} f_{p,d,2}$\n",
    "\n",
    "The design shear capacity per unit length of the perimeter fasteners to the sheathing ($f_{p,d}$) is given by:\n",
    "\n",
    "$$f_{p,d} = \\frac{1.2 F_{t,Rd} (1+2.5s)}{s}$$\n",
    "\n",
    "Where $F_{f,Rd}$ is the design capacity of a single fixing."
   ]
  },
  {
   "cell_type": "markdown",
   "metadata": {},
   "source": [
    "# Connections"
   ]
  },
  {
   "cell_type": "markdown",
   "metadata": {},
   "source": [
    "## Withdrawal Capacities"
   ]
  },
  {
   "cell_type": "code",
   "execution_count": 3,
   "metadata": {
    "tags": []
   },
   "outputs": [
    {
     "name": "stdout",
     "output_type": "stream",
     "text": [
      "Characteristic withdrawal resistance for smooth nails:\n"
     ]
    },
    {
     "data": {
      "text/html": [
       "<div>\n",
       "<style scoped>\n",
       "    .dataframe tbody tr th:only-of-type {\n",
       "        vertical-align: middle;\n",
       "    }\n",
       "\n",
       "    .dataframe tbody tr th {\n",
       "        vertical-align: top;\n",
       "    }\n",
       "\n",
       "    .dataframe thead th {\n",
       "        text-align: right;\n",
       "    }\n",
       "</style>\n",
       "<table border=\"1\" class=\"dataframe\">\n",
       "  <thead>\n",
       "    <tr style=\"text-align: right;\">\n",
       "      <th></th>\n",
       "      <th>C16</th>\n",
       "      <th>C24</th>\n",
       "    </tr>\n",
       "  </thead>\n",
       "  <tbody>\n",
       "    <tr>\n",
       "      <th>2.65</th>\n",
       "      <td>5.09</td>\n",
       "      <td>6.49</td>\n",
       "    </tr>\n",
       "    <tr>\n",
       "      <th>2.80</th>\n",
       "      <td>5.38</td>\n",
       "      <td>6.86</td>\n",
       "    </tr>\n",
       "    <tr>\n",
       "      <th>3.00</th>\n",
       "      <td>5.77</td>\n",
       "      <td>7.35</td>\n",
       "    </tr>\n",
       "    <tr>\n",
       "      <th>3.10</th>\n",
       "      <td>5.96</td>\n",
       "      <td>7.60</td>\n",
       "    </tr>\n",
       "    <tr>\n",
       "      <th>3.35</th>\n",
       "      <td>6.44</td>\n",
       "      <td>8.21</td>\n",
       "    </tr>\n",
       "    <tr>\n",
       "      <th>3.75</th>\n",
       "      <td>7.21</td>\n",
       "      <td>9.19</td>\n",
       "    </tr>\n",
       "    <tr>\n",
       "      <th>4.00</th>\n",
       "      <td>7.69</td>\n",
       "      <td>9.80</td>\n",
       "    </tr>\n",
       "  </tbody>\n",
       "</table>\n",
       "</div>"
      ],
      "text/plain": [
       "       C16   C24\n",
       "2.65  5.09  6.49\n",
       "2.80  5.38  6.86\n",
       "3.00  5.77  7.35\n",
       "3.10  5.96  7.60\n",
       "3.35  6.44  8.21\n",
       "3.75  7.21  9.19\n",
       "4.00  7.69  9.80"
      ]
     },
     "metadata": {},
     "output_type": "display_data"
    }
   ],
   "source": [
    "withdrawalData = {'C16':[5.09,5.38,5.77,5.96,6.44,7.21,7.69],\n",
    "                 'C24':[6.49,6.86,7.35,7.60,8.21,9.19,9.80]}\n",
    "withdrawal = pd.DataFrame(withdrawalData)\n",
    "nailDiameters = [2.65, 2.80, 3, 3.1, 3.35, 3.75, 4]\n",
    "withdrawal.index = nailDiameters\n",
    "print('Characteristic withdrawal resistance for smooth nails:')\n",
    "display(withdrawal)"
   ]
  },
  {
   "cell_type": "markdown",
   "metadata": {},
   "source": [
    "The withdrawl load of a screw is given by:\n",
    "\n",
    "$$R_{d,withdrawal} = \\frac{4t_{pen}nk_{mod}R_k}{\\gamma_M}$$"
   ]
  },
  {
   "cell_type": "code",
   "execution_count": 4,
   "metadata": {
    "jupyter": {
     "source_hidden": true
    }
   },
   "outputs": [
    {
     "name": "stdout",
     "output_type": "stream",
     "text": [
      "Withdrawl capacity of a 4.00mm diameter nail with a pointside penetration of 120.00mm is 2171.08N\n"
     ]
    }
   ],
   "source": [
    "# axial withdrawal load for a screw \n",
    "# tpen >= 8 x nominal diameter\n",
    "grade = 'C24'\n",
    "n = 1\n",
    "d = 4\n",
    "Rk = withdrawal.loc[d,grade]\n",
    "kmod = 0.6\n",
    "tpen = 120\n",
    "gm = 1.3\n",
    "\n",
    "Rdw = 4 * tpen * n * kmod * Rk / gm\n",
    "print('Withdrawl capacity of a {:.2f}mm diameter nail with a pointside penetration of {:.2f}mm is {:.2f}N'.\n",
    "      format(d, tpen, Rdw))\n"
   ]
  },
  {
   "cell_type": "markdown",
   "metadata": {},
   "source": [
    "# Force effects"
   ]
  },
  {
   "cell_type": "markdown",
   "metadata": {},
   "source": [
    "## Deflection"
   ]
  },
  {
   "cell_type": "markdown",
   "metadata": {},
   "source": [
    "Combined bending and shear deflection is a simply supported beam is given by:\n",
    "\n",
    "$$\\delta = \\frac{5wl^4}{384EI} + \\frac{V_{app}}{8 G_m bd}$$"
   ]
  },
  {
   "cell_type": "markdown",
   "metadata": {},
   "source": []
  }
 ],
 "metadata": {
  "kernelspec": {
   "display_name": "Python 3",
   "language": "python",
   "name": "python3"
  },
  "language_info": {
   "codemirror_mode": {
    "name": "ipython",
    "version": 3
   },
   "file_extension": ".py",
   "mimetype": "text/x-python",
   "name": "python",
   "nbconvert_exporter": "python",
   "pygments_lexer": "ipython3",
   "version": "3.9.1+"
  },
  "latex_envs": {
   "LaTeX_envs_menu_present": true,
   "autoclose": false,
   "autocomplete": true,
   "bibliofile": "biblio.bib",
   "cite_by": "apalike",
   "current_citInitial": 1,
   "eqLabelWithNumbers": true,
   "eqNumInitial": 1,
   "hotkeys": {
    "equation": "Ctrl-E",
    "itemize": "Ctrl-I"
   },
   "labels_anchors": false,
   "latex_user_defs": false,
   "report_style_numbering": false,
   "user_envs_cfg": false
  }
 },
 "nbformat": 4,
 "nbformat_minor": 4
}

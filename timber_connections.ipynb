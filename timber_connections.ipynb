{
 "cells": [
  {
   "cell_type": "markdown",
   "id": "ancient-straight",
   "metadata": {},
   "source": [
    "# Timber Connections\n",
    "\n",
    "## Screw withdrawal load\n",
    "\n",
    "The screw withdrawl load is calculated from:\n",
    "\n",
    "\\begin{align}\n",
    "R_{dw}=\\frac{4t_{pen} n k_{mod} R_k}{\\gamma_M}\n",
    "\\end{align}"
   ]
  },
  {
   "cell_type": "code",
   "execution_count": 1,
   "id": "superb-genesis",
   "metadata": {},
   "outputs": [],
   "source": [
    "from timber_connection import *"
   ]
  },
  {
   "cell_type": "code",
   "execution_count": 2,
   "id": "proper-corner",
   "metadata": {},
   "outputs": [
    {
     "name": "stdout",
     "output_type": "stream",
     "text": [
      "Withdrawal load of the connection = 1899.69N\n"
     ]
    }
   ],
   "source": [
    "s = ScrewConnection(diam=2.8, diamh=5.6, grade='C24', load_duration='short_term',\n",
    "                   service_class=2)\n",
    "withdrawal = s.withdrawal_screw(tpen=100, number=1)\n",
    "print(f'Withdrawal load of the connection = {withdrawal :.2f}N')"
   ]
  },
  {
   "cell_type": "code",
   "execution_count": 7,
   "id": "extreme-attachment",
   "metadata": {},
   "outputs": [
    {
     "data": {
      "text/plain": [
       "1899.6923076923072"
      ]
     },
     "execution_count": 7,
     "metadata": {},
     "output_type": "execute_result"
    }
   ],
   "source": [
    "s.screw_withdrawal(tpen=100, t=75, number=1)"
   ]
  }
 ],
 "metadata": {
  "kernelspec": {
   "display_name": "Python 3",
   "language": "python",
   "name": "python3"
  },
  "language_info": {
   "codemirror_mode": {
    "name": "ipython",
    "version": 3
   },
   "file_extension": ".py",
   "mimetype": "text/x-python",
   "name": "python",
   "nbconvert_exporter": "python",
   "pygments_lexer": "ipython3",
   "version": "3.9.2"
  }
 },
 "nbformat": 4,
 "nbformat_minor": 5
}
